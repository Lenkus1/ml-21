{
 "cells": [
  {
   "cell_type": "code",
   "execution_count": 21,
   "metadata": {},
   "outputs": [],
   "source": [
    "import tensorflow as tf\n",
    "import numpy as np\n",
    "import seaborn as sns\n",
    "sns.set_theme()\n",
    "import matplotlib.pyplot as plt\n",
    "plt.rcParams['figure.figsize'] = [12, 6]"
   ]
  },
  {
   "cell_type": "markdown",
   "metadata": {},
   "source": [
    "# When to use which loss?\n",
    "\n",
    "You can find an overview of implemented losses in the [documentation](https://www.tensorflow.org/api_docs/python/tf/keras/losses)"
   ]
  },
  {
   "cell_type": "markdown",
   "metadata": {},
   "source": [
    "# Classification\n",
    "\n",
    "## Binary cross-entropy"
   ]
  },
  {
   "cell_type": "markdown",
   "metadata": {},
   "source": [
    "When you have a binary classification problem, you will typically have labels `True` and `False`, which equals to labels `1` and `0`. The values output by the last layer are called **logits** and take values in the interval $(-\\infty,+\\infty)$. For a classification task, we usually want our output to be a *probability*. To do this we need to rescale the logits to the interval $(0,1)$. For binary classification this is achieved by passing the logits through the **sigmoid** function:\n",
    "\n",
    "\\begin{equation}\n",
    "\\hat{y} = \\sigma(x) = \\frac{1}{1+e^{-x}},\n",
    "\\end{equation}\n",
    "\n",
    "where is the logit from the output layer. the formula for the binary cross entropy is made up of two parts:\n",
    "\n",
    "- For the positive class, the base formula for cross entropy is $-y \\cdot log(\\hat{y})$ where $y$ is the ground truth (i.e. `1`), and $\\hat{y}$ is the predicted probability that your label is `1`.\n",
    "\n",
    "- For the negative class (i.e. `0`), we have $-(1-y)\\cdot log(1-\\hat{y})$.\n",
    "\n",
    "By putting these two pieces together we obtain the formula for binary corss entryopy:\n",
    "\n",
    "\\begin{equation}\n",
    "H(\\theta) = \\frac{1}{N}\\sum_{i=1}^N-(y \\cdot log(\\hat{y}) + (1-y)\\cdot log(1-\\hat{y})),\n",
    "\\end{equation}\n",
    "\n",
    "where $N$ is the total number of examples in your dataset, and $\\theta$ are the parameters of your ML model. The dependence of the loss function on the parameters is implicit (i.e. the parameters do not appear explicitly in the formula of the loss function). Can you see which term in equation $(2)$ is implicitly carrying this dependence?\n",
    "\n",
    "If your true label is `1`, only the first part of the formula above will contribute to the tota loss. Can you see why?\n",
    "\n",
    "Viceversa, if your true label is `0`, only the second part of the formula above will contribute to the total loss.\n",
    "\n",
    "Let's see this in practice:"
   ]
  },
  {
   "cell_type": "code",
   "execution_count": 15,
   "metadata": {},
   "outputs": [
    {
     "name": "stdout",
     "output_type": "stream",
     "text": [
      "0.10536051565782628\n",
      "-0.0\n"
     ]
    }
   ],
   "source": [
    "y = 1 # ground truth\n",
    "y_hat = 0.9 # prediction\n",
    "\n",
    "# first part of binary cross entropy\n",
    "print(-y * np.log(y_hat))\n",
    "# second part of binary cross entropy\n",
    "print(-(1-y) * np.log(1-y_hat))\n"
   ]
  },
  {
   "cell_type": "markdown",
   "metadata": {},
   "source": [
    "Let's see what happens to the binary cross entropy for a single case when the probability to belong to the positive class `y_hat` changes."
   ]
  },
  {
   "cell_type": "code",
   "execution_count": 24,
   "metadata": {},
   "outputs": [
    {
     "data": {
      "image/png": "[encoded data removed]",
      "text/plain": [
       "<Figure size 864x432 with 1 Axes>"
      ]
     },
     "metadata": {},
     "output_type": "display_data"
    }
   ],
   "source": [
    "y = 1 # ground truth\n",
    "y_hat = np.linspace(0.1,0.9,9) # prediction\n",
    "\n",
    "# individual contribution of one prediction to the total loss\n",
    "bce = -( y * np.log(y_hat) + (1-y) * np.log(1-y_hat) )\n",
    "\n",
    "# visualization\n",
    "sns.barplot(x=y_hat, y=bce);"
   ]
  },
  {
   "cell_type": "markdown",
   "metadata": {},
   "source": [
    "As expected, the further your prediction is to the true value of `1`, the greater its contribution to the total loss will be. This makes sense since we want a loss function that penalizes mistakes.\n",
    "\n",
    "How would you expect the above graph to look like for an example whose true value is `y=0`? Try to modify the code in the cell above and see whether the output is in line with your expectations."
   ]
  },
  {
   "cell_type": "markdown",
   "metadata": {},
   "source": [
    "In Tensorflow, this loss is implemented by the `BinaryCrossentropy` function. This function takes the option `from_logits` which specifies whether you are applying the function to the logits or the output probabilities. In case `from_logits=True`, the function will first pass the logits through the sigmoid and then compute the loss as in equation $(2)$."
   ]
  },
  {
   "cell_type": "code",
   "execution_count": 25,
   "metadata": {},
   "outputs": [
    {
     "name": "stderr",
     "output_type": "stream",
     "text": [
      "2021-11-23 11:12:28.353375: I tensorflow/core/platform/cpu_feature_guard.cc:151] This TensorFlow binary is optimized with oneAPI Deep Neural Network Library (oneDNN) to use the following CPU instructions in performance-critical operations:  AVX2 FMA\n",
      "To enable them in other operations, rebuild TensorFlow with the appropriate compiler flags.\n"
     ]
    },
    {
     "data": {
      "text/plain": [
       "<tf.Tensor: shape=(), dtype=float32, numpy=0.23101759>"
      ]
     },
     "execution_count": 25,
     "metadata": {},
     "output_type": "execute_result"
    }
   ],
   "source": [
    "y = [0, 1, 0, 1]\n",
    "yhat = [0.1, 0.7, 0.3, 0.9] # probabilities\n",
    "bce = tf.keras.losses.BinaryCrossentropy(from_logits=False)\n",
    "bce(y, yhat)"
   ]
  },
  {
   "cell_type": "markdown",
   "metadata": {},
   "source": [
    "If we dont use a sigmoid, we can get the output of a linear model, which is called a **logit** and takes values in the range $(-\\infty, \\infty)$"
   ]
  },
  {
   "cell_type": "code",
   "execution_count": 26,
   "metadata": {},
   "outputs": [
    {
     "data": {
      "text/plain": [
       "<tf.Tensor: shape=(), dtype=float32, numpy=0.00999736>"
      ]
     },
     "execution_count": 26,
     "metadata": {},
     "output_type": "execute_result"
    }
   ],
   "source": [
    "y = [0, 1, 0, 1]\n",
    "yhat = [-10.3, 3.2, -17.18, 12.92] # logits\n",
    "bce = tf.keras.losses.BinaryCrossentropy(from_logits=True)\n",
    "bce(y, yhat)"
   ]
  },
  {
   "cell_type": "markdown",
   "metadata": {},
   "source": [
    "## Categorical cross-entropy"
   ]
  },
  {
   "cell_type": "markdown",
   "metadata": {},
   "source": [
    "If there are two or more label classes in a one-hot encoding, you can use categorical cross entropy.\n",
    "\n",
    "Let's say we have three possible classes, and the label is the first class, we will have $[1, 0 ,0]$. If we predict the first class with high probability, but the second with small probability we could get something like $[0.95, 0.04, 0.01]$\n",
    "\n",
    "Note how the sum of the three proabbilities adds up to 1. This is a fundamental property of probabilities and, while in the binary case we enforced it by applying the sigmoid function to the logits, in the multiclass case we use the **softmax** function:\n",
    "\n",
    "\\begin{equation}\n",
    "\\sigma(x)_i = \\frac{e^{x_i}}{\\sum_{j=1}^Ke^{x_j}},\n",
    "\\end{equation}\n",
    "\n",
    "where $K$ is the number of classes. Once we have the probability for each class, we can compute the categorical cross-entropy loss as:\n",
    "\n",
    "\\begin{equation}\n",
    "H(\\theta) = \\frac{1}{N}\\sum_{i=0}^N\\sum_{j=1}^K y_{i,j} \\cdot log(\\hat{y}_{i,j})\n",
    "\\end{equation}\n",
    "\n",
    "where $N$ is the number of examples in the dataset, $K$ is the number of classes.\n",
    "\n",
    "If you have logits on the range $(-\\infty, \\infty)$ as output (i.e., you dont use an activation function) you can set `from_logits=True`."
   ]
  },
  {
   "cell_type": "code",
   "execution_count": 27,
   "metadata": {},
   "outputs": [
    {
     "data": {
      "text/plain": [
       "1.1769392"
      ]
     },
     "execution_count": 27,
     "metadata": {},
     "output_type": "execute_result"
    }
   ],
   "source": [
    "y = [[0, 1, 0], [0, 0, 1]] # one-hot encoded labels\n",
    "yhat = [[0.04, 0.95, 0.01], [0.1, 0.8, 0.1]]\n",
    "# Using 'auto'/'sum_over_batch_size' reduction type.\n",
    "loss = tf.keras.losses.CategoricalCrossentropy()\n",
    "loss(y, yhat).numpy()"
   ]
  },
  {
   "cell_type": "markdown",
   "metadata": {},
   "source": [
    "## Sparse categorical cross-entropy\n",
    "\n",
    "In case your classes are not one-hot encoded, you can use `SparseCategoricalCrossentropy` to compute the categorical cross-entropy."
   ]
  },
  {
   "cell_type": "code",
   "execution_count": 29,
   "metadata": {},
   "outputs": [
    {
     "data": {
      "text/plain": [
       "1.1769392"
      ]
     },
     "execution_count": 29,
     "metadata": {},
     "output_type": "execute_result"
    }
   ],
   "source": [
    "y = [1, 2] # labels not one-hot encoded\n",
    "yhat = [[0.05, 0.95, 0], [0.1, 0.8, 0.1]]\n",
    "# Using 'auto'/'sum_over_batch_size' reduction type.\n",
    "scce = tf.keras.losses.SparseCategoricalCrossentropy()\n",
    "scce(y, yhat).numpy()\n"
   ]
  },
  {
   "cell_type": "markdown",
   "metadata": {},
   "source": [
    "## Multi-class, Multi-label\n",
    "The most general case occurs when there are multiple classes to predict, and each instance can take multiple labels from the set of categories at the same time. E.g. you can have a three classes for movies ['commedy', 'sci-fi', 'horror'] and you are watching a movie that is both a comedy, and sci-fi. Your label will be $[1, 0, 1]$ and your prediction might be something like $[0.7, 0.5, 0.6]$. Or in the case of an x-ray of a chest: you might have pneumonia and/or cancer, or none of them.\n",
    "\n",
    "**Note**: for this case, the sum of the probabilities for each class does not necessarily have to add up to one because each class is not mutually exclusive. In this case, you should use the binary crossentropy. If you use a softmax, your values will sum to one. But that is not what you want! Because it is multilabel, you want to allow for multiple values to get close to one, so use a sigmoid as activation function. You can also use this with logits."
   ]
  },
  {
   "cell_type": "code",
   "execution_count": 30,
   "metadata": {},
   "outputs": [
    {
     "data": {
      "text/plain": [
       "array([0.00449203, 0.00225358], dtype=float32)"
      ]
     },
     "execution_count": 30,
     "metadata": {},
     "output_type": "execute_result"
    }
   ],
   "source": [
    "y_true = [[1, 0, 1], [0, 0, 1]]\n",
    "y_pred = [[5.0, -10.0, 5], [-5.0, -10, 20]]\n",
    "loss = tf.keras.losses.binary_crossentropy(y_true, y_pred, from_logits=True)\n",
    "loss.numpy()"
   ]
  },
  {
   "cell_type": "code",
   "execution_count": 31,
   "metadata": {},
   "outputs": [
    {
     "data": {
      "text/plain": [
       "array([0.0340551, 1.3391274], dtype=float32)"
      ]
     },
     "execution_count": 31,
     "metadata": {},
     "output_type": "execute_result"
    }
   ],
   "source": [
    "y = [[0, 1, 0], [0, 0, 1]]\n",
    "yhat = [[0.04, 0.95, 0.01], [0.1, 0.8, 0.1]]\n",
    "loss = tf.keras.losses.binary_crossentropy(y, yhat, from_logits=False)\n",
    "loss.numpy()"
   ]
  },
  {
   "cell_type": "markdown",
   "metadata": {},
   "source": [
    "# Regression\n",
    "\n",
    "TODO: Write a brief intro about the characteristics of the loss function for regression problems.\n",
    "\n",
    "## Mean Absolute Error (MAE)\n",
    "\n",
    "The MAE is computed as \n",
    "\n",
    "\\begin{equation}\n",
    "\\mathcal{L}(\\hat{y}, y)=\\frac{1}{N}\\sum_{i=1}^N |y-\\hat{y}|.\n",
    "\\end{equation}\n",
    "\n",
    "The MAE measure the error in the same scale of the data, i.e. if you are predicting the price in dollars the unit of the MAE will be dollars as well. The distance of each prediction `y_hat` from the ground truth `y` contributes linearly to the total MAE. This implies that outliers are not heavily penalized. In case you want to penalize outliers heavily, you may want to consider other loss functions.\n",
    "\n",
    "- Why do we need to take the absolute value of `y-y_hat` to have a valid measure of the error?"
   ]
  },
  {
   "cell_type": "code",
   "execution_count": 34,
   "metadata": {},
   "outputs": [
    {
     "data": {
      "text/plain": [
       "3.326666666666666"
      ]
     },
     "execution_count": 34,
     "metadata": {},
     "output_type": "execute_result"
    }
   ],
   "source": [
    "y = np.array([10.2, 5.1, 8.12])\n",
    "yhat = np.array([2.2, 6.0, 9.2])\n",
    "loss = tf.keras.losses.MAE(y, yhat)\n",
    "\n",
    "assert np.array_equal(\n",
    "    loss.numpy(), np.mean(np.abs(y - yhat), axis=-1))\n",
    "\n",
    "loss.numpy()\n"
   ]
  },
  {
   "cell_type": "markdown",
   "metadata": {},
   "source": [
    "In the above example, there is a clear outlier, which one? Let's introduce a new loss function that can be used it to penalize it better than what the MAE does.\n",
    "\n",
    "\n",
    "Try to change the outlier in the code, and note how the two loss functions react differently to the outlier.\n",
    "\n",
    "## Mean Squared Error (MSE)\n",
    "\n",
    "\\begin{equation}\n",
    "MSE = \\frac{1}{N}\\sum_{i=1}^N(y_i-\\hat{y}_i)^2\n",
    "\\end{equation}\n",
    "\n",
    "Contrary to MAE, the units of the MSE are the square of the unit of the labels. For example, if you are predicting the area of a house in $m^2$, then your MSE will be in $m^4$. What is an obvious way to have the same units as those of the lables/"
   ]
  },
  {
   "cell_type": "code",
   "execution_count": 36,
   "metadata": {},
   "outputs": [
    {
     "data": {
      "text/plain": [
       "21.992133333333328"
      ]
     },
     "execution_count": 36,
     "metadata": {},
     "output_type": "execute_result"
    }
   ],
   "source": [
    "loss = tf.keras.losses.MSE(y, yhat)\n",
    "\n",
    "assert np.array_equal(\n",
    "    loss.numpy(), np.mean(np.square(y - yhat), axis=-1))\n",
    "\n",
    "loss.numpy()"
   ]
  },
  {
   "cell_type": "markdown",
   "metadata": {},
   "source": [
    "In the example above MSE > MAE because of the presence of an outlier. Do you understand why squaring the difference $y-y_hat$ penalizes outliers more than taking the absolute value as in the MAE?"
   ]
  },
  {
   "cell_type": "markdown",
   "metadata": {},
   "source": [
    "## Mean Squared Logarithmic Error\n",
    "\n",
    "If the target value has a huge spread, you might want to be easier on errors for the very large values. With this, you can use the mean squared logarithmic error:\n",
    "\n",
    "$$\\mathcal{L}(\\hat{y}, y)=\\frac{1}{m}\\sum_{i=1}^m ((log(y+1) -log(\\hat{y} + 1))^2$$"
   ]
  },
  {
   "cell_type": "code",
   "execution_count": 39,
   "metadata": {},
   "outputs": [
    {
     "data": {
      "text/plain": [
       "0.5336267729497567"
      ]
     },
     "execution_count": 39,
     "metadata": {},
     "output_type": "execute_result"
    }
   ],
   "source": [
    "loss = tf.keras.losses.mean_squared_logarithmic_error(y, yhat)\n",
    "loss.numpy()"
   ]
  },
  {
   "cell_type": "markdown",
   "metadata": {},
   "source": [
    "## Remarks\n",
    "\n",
    "These are just some of the many loss functions that can be used for classification and regression tasks. Often, the choice of the right loss function can improve the performance of the ML model because the way errors are compute affects the value of the gradients (remember backprop?) and these, in turn, affect how the model parameters are updated."
   ]
  },
  {
   "cell_type": "markdown",
   "metadata": {},
   "source": [
    "## Food for thought\n",
    "\n",
    "- Can we use a regression loss, i.e. MAE for a classification problem?\n",
    "- What is the difference between a *loss* and a *metric*?\n",
    "- Can we use a metric as a loss? Can we use a loss as a metric?"
   ]
  }
 ],
 "metadata": {
  "interpreter": {
   "hash": "55da07f3d1a7aa3ceac520ecfe12af6f97560c6fbaf7360a1866fd52ad3a227b"
  },
  "kernelspec": {
   "display_name": "Python 3.8.10 64-bit ('opentag-f5tbS3t8-py3.8': venv)",
   "name": "python3"
  },
  "language_info": {
   "codemirror_mode": {
    "name": "ipython",
    "version": 3
   },
   "file_extension": ".py",
   "mimetype": "text/x-python",
   "name": "python",
   "nbconvert_exporter": "python",
   "pygments_lexer": "ipython3",
   "version": "3.7.11"
  },
  "orig_nbformat": 2
 },
 "nbformat": 4,
 "nbformat_minor": 2
}
