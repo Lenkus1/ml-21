{
 "cells": [
  {
   "cell_type": "code",
   "execution_count": 1,
   "metadata": {},
   "outputs": [],
   "source": [
    "import datetime\n",
    "tick = datetime.datetime.now()\n",
    "# on colab with a GPU, running this complete notebook will take about 25 minutes"
   ]
  },
  {
   "cell_type": "markdown",
   "metadata": {},
   "source": [
    "[run in colab](https://colab.research.google.com/github/raoulg/tmoi-ml-20/blob/master/4-tuning_dnn/tuning_dnn.ipynb)\n",
    "\n",
    "<table align=\"left\">\n",
    "  <td>\n",
    "    <a target=\"_blank\" href=\"https://colab.research.google.com/github/raoulg/tmoi-ml-20/blob/master/4-tuning_dnn/tuning_dnn.ipynb\"><img src=\"https://www.tensorflow.org/images/colab_logo_32px.png\" />Run in Google Colab</a>\n",
    "  </td>\n",
    "</table>"
   ]
  },
  {
   "cell_type": "code",
   "execution_count": 2,
   "metadata": {},
   "outputs": [],
   "source": [
    "%load_ext autoreload\n",
    "%autoreload 2\n",
    "import tensorflow as tf \n",
    "import numpy as np\n",
    "from tensorflow import keras\n",
    "import datetime\n",
    "from tensorflow.keras.callbacks import EarlyStopping\n",
    "from tensorflow.keras.models import Sequential\n",
    "from tensorflow.keras import Model\n",
    "from tensorflow.keras.layers import Dense, Flatten, Input, Dropout, BatchNormalization, Reshape\n",
    "from tensorflow.keras.layers.experimental.preprocessing import Rescaling\n",
    "import matplotlib.pyplot as plt\n",
    "import requests\n",
    "import sys\n",
    "sys.path.insert(0, \"..\") \n",
    "from src.data import make_dataset\n",
    "from src.visualization import visualize\n",
    "from src.models import train_model\n",
    "from sklearn.preprocessing import StandardScaler\n",
    "%load_ext tensorboard"
   ]
  },
  {
   "cell_type": "code",
   "execution_count": 3,
   "metadata": {},
   "outputs": [],
   "source": [
    "# use this to remove old logs folders if you want to run it again.\n",
    "#!rm -rf logs/fit"
   ]
  },
  {
   "cell_type": "code",
   "execution_count": 4,
   "metadata": {},
   "outputs": [],
   "source": [
    "# # When running on a location without the utils.py file, download it.\n",
    "# files = !ls\n",
    "# if 'utils.py' not in files:\n",
    "#     file = \"https://raw.githubusercontent.com/raoulg/tmoi-ml-20/master/4-tuning_dnn/utils.py\"\n",
    "#     req = requests.get(file)\n",
    "#     url_content = req.content\n",
    "#     csv_file = open('utils.py', 'wb')\n",
    "#     csv_file.write(url_content)\n",
    "#     csv_file.close()\n",
    "# from utils import *"
   ]
  },
  {
   "cell_type": "code",
   "execution_count": 5,
   "metadata": {},
   "outputs": [
    {
     "name": "stdout",
     "output_type": "stream",
     "text": [
      "No GPU was detected.\n"
     ]
    }
   ],
   "source": [
    "# install some missing libraries if running on colab\n",
    "# notify the user if GPU is off\n",
    "\n",
    "try:\n",
    "    # %tensorflow_version only exists in Colab.\n",
    "    %tensorflow_version 2.x\n",
    "    IS_COLAB = True\n",
    "except Exception:\n",
    "    IS_COLAB = False\n",
    "\n",
    "if IS_COLAB:\n",
    "    !pip install keras-tuner\n",
    "    !pip install tensorflow-addons\n",
    "\n",
    "if not tf.config.list_physical_devices('GPU'):\n",
    "    print(\"No GPU was detected.\")\n",
    "    if IS_COLAB:\n",
    "        print(\"Go to Runtime > Change runtime and select a GPU hardware accelerator.\")"
   ]
  },
  {
   "cell_type": "markdown",
   "metadata": {},
   "source": [
    "# Loading data\n",
    "We start with the MNIST. We already know from the last lesson how easy (or difficult) it is to get a certain performance, so we can evaluate the impact of the different types of activations, batchnorm and dropout."
   ]
  },
  {
   "cell_type": "code",
   "execution_count": 6,
   "metadata": {},
   "outputs": [],
   "source": [
    "X_train, y_train, X_valid, y_valid, X_test, y_test = make_dataset.get_mnist(split=0.4, seed=42, validation=True)"
   ]
  },
  {
   "cell_type": "code",
   "execution_count": 11,
   "metadata": {},
   "outputs": [],
   "source": [
    "result = {}\n",
    "score = {}"
   ]
  },
  {
   "cell_type": "markdown",
   "metadata": {},
   "source": [
    " # Convolutions and Hypermodel"
   ]
  },
  {
   "cell_type": "markdown",
   "metadata": {},
   "source": [
    "In the next lesson, we will dive into the theory behind *convolutions* and *maxpooling*. For now, let's just try to add these new types of layers to see their effect.\n",
    "\n",
    "- a `Conv2D` layer expects (as the name suggests) **2D data**, but with an additional dimension for color / grayscale. So, every example has shape (batchsize x height x width) which does not have a channel defined. So we need to add an additional dimension, to specify that we have just one channel for color. We can do this with either reshape, or just with `Input(shape=[28,28,1])`. We will end with a **4D shape** for all data, eg (batchsize x height x width x channels)\n",
    "- We can tune the amount of filters (first argument) and the size of the kernel (second argument). In this example, I have fixed the kernel size at 3, and set the amount of filters as a hyperparameters to be tuned by the model.\n",
    "- After a convolution, you can add a `MaxPool2D` layer. Again, **4D shapes** are expected (1D for batch, 2D imagedimensions with 1D for channels).\n",
    "- the amount of combinations of Conv2d and MaxPool2D is something that we will hypertune.\n",
    "- After we are finished with convolutions and pooling, we want to pass the result to our `Dense` layers. However, they still expect the data to have a shape (batchsize x features), so we need to **flatten the 2D shape** into a 1D feature vector.\n",
    "- For the `Dense` layers, we will add `BatchNormalization` and `Dropout`. The amount of dropout is a hyperparameter to tune."
   ]
  },
  {
   "cell_type": "code",
   "execution_count": 12,
   "metadata": {},
   "outputs": [
    {
     "name": "stdout",
     "output_type": "stream",
     "text": [
      "125/125 [==============================] - 1s 3ms/step - loss: 0.0514 - accuracy: 0.9852\n"
     ]
    }
   ],
   "source": [
    "log_dir = \"logs/fit/\" + \"cnn\"\n",
    "tbcb = tf.keras.callbacks.TensorBoard(log_dir=log_dir, histogram_freq=1)\n",
    "early_stop = EarlyStopping(patience=5, restore_best_weights=True)\n",
    "\n",
    "model = train_model.get_baseline_conv()\n",
    "\n",
    "result['conv'] = model.fit(\n",
    "    X_train, y_train, \n",
    "    epochs=100, \n",
    "    validation_data=(X_valid, y_valid), \n",
    "    callbacks=[early_stop, tbcb], \n",
    "    verbose = 0\n",
    "    )\n",
    "score['conv'] = model.evaluate(X_test, y_test)"
   ]
  },
  {
   "cell_type": "code",
   "execution_count": 13,
   "metadata": {},
   "outputs": [
    {
     "data": {
      "image/png": "[encoded data removed]",
      "text/plain": [
       "<Figure size 576x576 with 1 Axes>"
      ]
     },
     "metadata": {
      "needs_background": "light"
     },
     "output_type": "display_data"
    }
   ],
   "source": [
    "visualize.plot_scores(score, ymin=0.95)"
   ]
  },
  {
   "cell_type": "markdown",
   "metadata": {},
   "source": [
    "So, while this (again) improves what we have, we run into a real problem. We just have too many options to test.\n",
    "In addition to that, they might interact. So, we could manually tune the amount of units, but maybe the optimal value is different when we toss in a `Conv2D` layer!\n",
    "The same holds for everything else we tested. How to get an idea of the search space you are looking at? Let's list a reasonable amount of values we would want to test:\n",
    "\n",
    "* activations: relu, selu, elu, gelu, leakyrelu (5)\n",
    "* alpha: leakyrelu with alpha, between 0 and 0.2 (20)\n",
    "* units: between 32 and 256, or maybe up to 1024 (~50)\n",
    "* layers: starting from 3, maybe up to 10, or even 100? (~20)\n",
    "* convlayers: filters between (3,3) and (7,7) (~4)\n",
    "* combinations of conv and maxpool layers: 1 to 5 (~4)\n",
    "* batchnorm yes or no (2)\n",
    "* dropout between 0 and 40 (5)\n",
    "* learning rate: between $10^{-2}$ and $10^{-5}$ (20)\n",
    "\n",
    "so we get 5x20x50x20x4x4x2x5x20=320 million combinations! That is way too much to explore with a gridsearch. This searchspace is still way too big to explore with a stochastic hyperparameter tuner, because it can only sample a limited number of combinations! An often adopted compromise is to start exploring the search space manually, and start tuning the hyperparameters only when a promising direction for improvement has been identified.\n",
    "\n",
    "In addition, exploring the search space manually will give you an intuition of what effect each hyperparameter has on the model preformance, thus helping you understand how your model behaves.\n"
   ]
  },
  {
   "cell_type": "code",
   "execution_count": 15,
   "metadata": {},
   "outputs": [
    {
     "name": "stdout",
     "output_type": "stream",
     "text": [
      "Trial 2 Complete [00h 00m 55s]\n",
      "val_loss: 0.04528054967522621\n",
      "\n",
      "Best val_loss So Far: 0.04528054967522621\n",
      "Total elapsed time: 00h 02m 05s\n",
      "INFO:tensorflow:Oracle triggered exit\n"
     ]
    }
   ],
   "source": [
    "import kerastuner as kt\n",
    "# takes about 10 minutes with max_epochs=5 and factor=3\n",
    "# takes about 5 minutes with max_epochs=3 and factor=2\n",
    "\n",
    "tuner = kt.Hyperband(\n",
    "    train_model.get_cnn_model,\n",
    "    objective='val_loss',\n",
    "    max_epochs=2, # increasing this increases the total amount of trials\n",
    "    factor=3, # decreasing this will increase the amount of total trials\n",
    "    seed=10, # adding a random seed here, guarantees you get the same outcome.\n",
    "    hyperband_iterations=1, # this runs the hyperband multiple times, from scratch, when increased.\n",
    "    overwrite=True, # overwrites old runs, so you don't need to remove the folder.\n",
    "    directory='ktuner',\n",
    "    project_name='mnist'\n",
    ")\n",
    "tuner.search(X_train, y_train, validation_data = (X_valid, y_valid), verbose=1)"
   ]
  },
  {
   "cell_type": "code",
   "execution_count": 17,
   "metadata": {},
   "outputs": [
    {
     "name": "stdout",
     "output_type": "stream",
     "text": [
      "{'filters': 32, 'conv_layers': 1, 'units': 192, 'drops': 0.30313774804008115, 'leak': 0.18112793523490414, 'dense_layers': 2, 'tuner/epochs': 2, 'tuner/initial_epoch': 0, 'tuner/bracket': 0, 'tuner/round': 0}\n",
      "Model: \"model\"\n",
      "_________________________________________________________________\n",
      " Layer (type)                Output Shape              Param #   \n",
      "=================================================================\n",
      " input_1 (InputLayer)        [(None, 28, 28)]          0         \n",
      "                                                                 \n",
      " rescaling (Rescaling)       (None, 28, 28)            0         \n",
      "                                                                 \n",
      " reshape (Reshape)           (None, 28, 28, 1)         0         \n",
      "                                                                 \n",
      " conv2d (Conv2D)             (None, 26, 26, 32)        320       \n",
      "                                                                 \n",
      " max_pooling2d (MaxPooling2D  (None, 13, 13, 32)       0         \n",
      " )                                                               \n",
      "                                                                 \n",
      " conv2d_1 (Conv2D)           (None, 11, 11, 32)        9248      \n",
      "                                                                 \n",
      " max_pooling2d_1 (MaxPooling  (None, 5, 5, 32)         0         \n",
      " 2D)                                                             \n",
      "                                                                 \n",
      " flatten (Flatten)           (None, 800)               0         \n",
      "                                                                 \n",
      " dense (Dense)               (None, 192)               153792    \n",
      "                                                                 \n",
      " leaky_re_lu (LeakyReLU)     (None, 192)               0         \n",
      "                                                                 \n",
      " batch_normalization (BatchN  (None, 192)              768       \n",
      " ormalization)                                                   \n",
      "                                                                 \n",
      " dropout (Dropout)           (None, 192)               0         \n",
      "                                                                 \n",
      " dense_1 (Dense)             (None, 192)               37056     \n",
      "                                                                 \n",
      " leaky_re_lu_1 (LeakyReLU)   (None, 192)               0         \n",
      "                                                                 \n",
      " batch_normalization_1 (Batc  (None, 192)              768       \n",
      " hNormalization)                                                 \n",
      "                                                                 \n",
      " dropout_1 (Dropout)         (None, 192)               0         \n",
      "                                                                 \n",
      " dense_2 (Dense)             (None, 192)               37056     \n",
      "                                                                 \n",
      " leaky_re_lu_2 (LeakyReLU)   (None, 192)               0         \n",
      "                                                                 \n",
      " batch_normalization_2 (Batc  (None, 192)              768       \n",
      " hNormalization)                                                 \n",
      "                                                                 \n",
      " dropout_2 (Dropout)         (None, 192)               0         \n",
      "                                                                 \n",
      " dense_3 (Dense)             (None, 10)                1930      \n",
      "                                                                 \n",
      "=================================================================\n",
      "Total params: 241,706\n",
      "Trainable params: 240,554\n",
      "Non-trainable params: 1,152\n",
      "_________________________________________________________________\n"
     ]
    }
   ],
   "source": [
    "best_hps = tuner.get_best_hyperparameters(num_trials = 1)[0]\n",
    "print(best_hps.values)\n",
    "cnn_model = tuner.get_best_models()[0]\n",
    "cnn_model.summary()"
   ]
  },
  {
   "cell_type": "code",
   "execution_count": 18,
   "metadata": {},
   "outputs": [
    {
     "name": "stdout",
     "output_type": "stream",
     "text": [
      "CPU times: user 9min 18s, sys: 6min 1s, total: 15min 19s\n",
      "Wall time: 4min 8s\n"
     ]
    }
   ],
   "source": [
    "%%time \n",
    "tf.random.set_seed(42)\n",
    "log_dir = \"logs/fit/\" + \"hyper\"\n",
    "tbcb = tf.keras.callbacks.TensorBoard(log_dir=log_dir, histogram_freq=1)\n",
    "result['hyper'] = cnn_model.fit(\n",
    "    X_train, y_train, \n",
    "    epochs=100, \n",
    "    validation_data=(X_valid, y_valid), \n",
    "    callbacks=[early_stop, tbcb], \n",
    "    verbose = 0\n",
    "    )"
   ]
  },
  {
   "cell_type": "code",
   "execution_count": 19,
   "metadata": {},
   "outputs": [
    {
     "name": "stdout",
     "output_type": "stream",
     "text": [
      "125/125 [==============================] - 1s 3ms/step - loss: 0.0299 - accuracy: 0.9920\n"
     ]
    }
   ],
   "source": [
    "score['hyper'] = cnn_model.evaluate(X_test, y_test)"
   ]
  },
  {
   "cell_type": "code",
   "execution_count": 20,
   "metadata": {},
   "outputs": [
    {
     "data": {
      "image/png": "[encoded data removed]",
      "text/plain": [
       "<Figure size 1080x720 with 2 Axes>"
      ]
     },
     "metadata": {
      "needs_background": "light"
     },
     "output_type": "display_data"
    }
   ],
   "source": [
    "visualize.plot_results(result, ymin=0, ymax = 0.15, subset='drop|hyper')"
   ]
  },
  {
   "cell_type": "code",
   "execution_count": 21,
   "metadata": {},
   "outputs": [
    {
     "data": {
      "image/png": "[encoded data removed]",
      "text/plain": [
       "<Figure size 576x576 with 1 Axes>"
      ]
     },
     "metadata": {
      "needs_background": "light"
     },
     "output_type": "display_data"
    }
   ],
   "source": [
    "visualize.plot_scores(score, ymin=0.95)"
   ]
  },
  {
   "cell_type": "code",
   "execution_count": 22,
   "metadata": {},
   "outputs": [
    {
     "name": "stdout",
     "output_type": "stream",
     "text": [
      "Trial 8 Complete [00h 01m 49s]\n",
      "val_loss: 0.03378676250576973\n",
      "\n",
      "Best val_loss So Far: 0.03378676250576973\n",
      "Total elapsed time: 00h 09m 17s\n",
      "INFO:tensorflow:Oracle triggered exit\n"
     ]
    }
   ],
   "source": [
    "from kerastuner import HyperParameters\n",
    "hp = HyperParameters()\n",
    "# you can fix some of the values to decrease the size of the search space\n",
    "# lets fix the units and the conv_layers, because I'm most confident about those values.\n",
    "# This way, the hyperband can focus on exploring the rest\n",
    "hp.Fixed('units', value=256)\n",
    "hp.Fixed('conv_layers', value=1)\n",
    "\n",
    "# takes about 5 minutes with max_epochs=3 and factor=2\n",
    "tuner = kt.Hyperband(\n",
    "    train_model.get_cnn_model,\n",
    "    hyperparameters=hp, # this overwrites the old values with the fixed values\n",
    "    tune_new_entries=True, # this allows the rest that isn't defined to be trained\n",
    "    objective='val_loss',\n",
    "    max_epochs=3, # increasing this increases the total amount of trials\n",
    "    factor=2, # decreasing this will increase the amount of total trials\n",
    "    seed=10, # adding a random seed here, guarantees you get the same outcome.\n",
    "    hyperband_iterations=1, # this runs the hyperband multiple times, from scratch, when increased.\n",
    "    overwrite=True, # overwrites old runs, so you don't need to remove the folder.\n",
    "    directory='ktuner',\n",
    "    project_name='mnist'\n",
    ")\n",
    "tuner.search(X_train, y_train, validation_data = (X_valid, y_valid), verbose=1)"
   ]
  },
  {
   "cell_type": "code",
   "execution_count": 23,
   "metadata": {},
   "outputs": [
    {
     "name": "stdout",
     "output_type": "stream",
     "text": [
      "{'units': 256, 'conv_layers': 1, 'filters': 48, 'drops': 0.11156555180121402, 'leak': 0.08170717585089876, 'dense_layers': 2, 'tuner/epochs': 3, 'tuner/initial_epoch': 0, 'tuner/bracket': 0, 'tuner/round': 0}\n",
      "125/125 [==============================] - 1s 6ms/step - loss: 0.0302 - accuracy: 0.9912\n"
     ]
    }
   ],
   "source": [
    "best_hps = tuner.get_best_hyperparameters(num_trials = 1)[0]\n",
    "print(best_hps.values)\n",
    "model = tuner.get_best_models()[0]\n",
    "\n",
    "log_dir = \"logs/fit/\" + \"hyper2\"\n",
    "tbcb = tf.keras.callbacks.TensorBoard(log_dir=log_dir, histogram_freq=1)\n",
    "tf.random.set_seed(42)\n",
    "result['hyper2'] = model.fit(\n",
    "    X_train, y_train, \n",
    "    epochs=100, \n",
    "    validation_data=(X_valid, y_valid), \n",
    "    callbacks=[early_stop, tbcb], \n",
    "    verbose = 0\n",
    "    )\n",
    "score['hyper2'] = model.evaluate(X_test, y_test)"
   ]
  },
  {
   "cell_type": "code",
   "execution_count": 24,
   "metadata": {},
   "outputs": [
    {
     "data": {
      "image/png": "[encoded data removed]",
      "text/plain": [
       "<Figure size 1080x720 with 2 Axes>"
      ]
     },
     "metadata": {
      "needs_background": "light"
     },
     "output_type": "display_data"
    }
   ],
   "source": [
    "visualize.plot_results(result, ymin=0, ymax = 0.15, subset='drop|hyper')"
   ]
  },
  {
   "cell_type": "code",
   "execution_count": 25,
   "metadata": {},
   "outputs": [
    {
     "data": {
      "image/png": "[encoded data removed]",
      "text/plain": [
       "<Figure size 576x576 with 1 Axes>"
      ]
     },
     "metadata": {
      "needs_background": "light"
     },
     "output_type": "display_data"
    }
   ],
   "source": [
    "visualize.plot_scores(score, ymin=0.95)"
   ]
  },
  {
   "cell_type": "code",
   "execution_count": null,
   "metadata": {},
   "outputs": [],
   "source": [
    "%tensorboard --logdir logs/fit"
   ]
  },
  {
   "cell_type": "markdown",
   "metadata": {},
   "source": [
    "# Save your model\n",
    "After all this hard work and tuning, save your model."
   ]
  },
  {
   "cell_type": "code",
   "execution_count": null,
   "metadata": {},
   "outputs": [],
   "source": [
    "model.save('mymodel.h5')"
   ]
  },
  {
   "cell_type": "code",
   "execution_count": null,
   "metadata": {},
   "outputs": [],
   "source": [
    "from tensorflow.keras.models import load_model\n",
    "model = load_model('mymodel.h5')\n",
    "\n",
    "# Check its architecture\n",
    "model.summary()"
   ]
  },
  {
   "cell_type": "code",
   "execution_count": null,
   "metadata": {},
   "outputs": [],
   "source": [
    "model.evaluate(X_test, y_test)"
   ]
  }
 ],
 "metadata": {
  "interpreter": {
   "hash": "6fa5693089da9cc5f7183718ac997dd49e23978d48bd295537625c2b1c2bfa9c"
  },
  "kernelspec": {
   "display_name": "Python 3.8.3 64-bit ('tensorflow': conda)",
   "language": "python",
   "name": "python3"
  },
  "language_info": {
   "codemirror_mode": {
    "name": "ipython",
    "version": 3
   },
   "file_extension": ".py",
   "mimetype": "text/x-python",
   "name": "python",
   "nbconvert_exporter": "python",
   "pygments_lexer": "ipython3",
   "version": "3.7.11"
  }
 },
 "nbformat": 4,
 "nbformat_minor": 4
}
