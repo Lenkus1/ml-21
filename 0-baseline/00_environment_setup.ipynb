{
 "cells": [
  {
   "cell_type": "markdown",
   "metadata": {},
   "source": [
    "There are many ways to set up a python environment. The problem is, this can\n",
    "become a mess very quickly...\n",
    "\n",
    "<img src=https://imgs.xkcd.com/comics/python_environment_2x.png height=\"400\">"
   ]
  },
  {
   "cell_type": "markdown",
   "metadata": {},
   "source": [
    "# 1.1 Python\n",
    "We will setup the management of python with `pyenv`. Installing pyenv works\n",
    "slightly differently on different machines. Because listing all options is\n",
    "already done on the page of the pyenv development site, we will simply point you\n",
    "to those instructions.\n",
    "\n",
    "## 1.1 Dependencies\n",
    "First, make sure you have installed the [dependencies](https://github.com/pyenv/pyenv/wiki#suggested-build-environment)\n",
    "\n",
    "## 1.2 UNIX\n",
    "You can find instructions for different UNIX (macOS or Linux) operating systems [here](https://github.com/pyenv/pyenv/wiki#suggested-build-environment)\n",
    "\n",
    "After that, follow [this](https://github.com/pyenv/pyenv#homebrew-in-macos) for\n",
    "mac (where we recommend brew)\n",
    "or [this](https://github.com/pyenv/pyenv#basic-github-checkout) for linux\n",
    "They are almost the same, except for the first step. Configure your shell,\n",
    "depending on the shell you use.\n",
    "\n",
    "## 1.3 Windows\n",
    "And for windows, use [this](https://github.com/pyenv-win/pyenv-win)"
   ]
  },
  {
   "cell_type": "markdown",
   "metadata": {},
   "source": [
    "Now, you can check the versions you have installed with `pyenv versions`. You\n",
    "probably only have the system version of python. This could be python 2, or\n",
    "python 3. To check your version, excecute `python --version` in your shell.\n",
    "\n",
    "Installing a new version is as simple as:\n",
    "\n",
    "`pynenv install 3.9.7`\n",
    "\n",
    "This will install version 3.9.7, no suprise there...\n",
    "Checking `pyenv versions` will show the newly added python version.\n",
    "\n",
    "This is really the cleanest way to manage different versions of python. If you\n",
    "want to list some available versions, you can use this:\n",
    "`pyenv install --list | grep \" 3\\.[891]\"`\n",
    "It will show the list of available versions to install, and filter version 3.8,\n",
    "3.8 or 3.10 and above."
   ]
  },
  {
   "cell_type": "markdown",
   "metadata": {},
   "source": [
    "# 2 Virtual environments\n",
    "There are many ways to manage packages. Most common are `pip` and `conda`.\n",
    "However, they can cause annoying problems. We sometimes will use conda, for\n",
    "example if we are locked into a cloud environment that does not allow us to use\n",
    "anything else than conda. But as a default, we recommend using `poetry`.\n",
    "\n",
    "## 2.1 Poetry\n",
    "The basic installation guide can be found\n",
    "[here](https://python-poetry.org/docs/master/)\n",
    "Make sure you use the master branch that uses the install-poetry.py script (and\n",
    "not the get-poetry.py script). Do not use brew to install poetry on a mac! It\n",
    "will screw up our intention to use poetry together with pyenv."
   ]
  },
  {
   "cell_type": "markdown",
   "metadata": {},
   "source": [
    "# 2.2 Setting up an environment\n",
    "\n",
    "Now, you can go to a folder where you want to start your new project.\n",
    "Inside that folder, you can switch to the correct python version you would like\n",
    "to use with pyenv (eg `pyenv local 3.9.7`) and after that you type `poetry init`\n",
    "and poetry will guide you through an interactive menu to set up your\n",
    "`pyproject.toml` file"
   ]
  },
  {
   "cell_type": "markdown",
   "metadata": {},
   "source": [
    "## 2.3 pyproject.toml file\n",
    "\n",
    "The parentfolder of this lesson contains a pyproject.toml file. Have a look at\n",
    "it. You will find a section with dependencies used in the project (like numpy,\n",
    "seaborn and scikit-learn). There are restraints on the versions (the ^ and ~\n",
    "before the numbers), you can read\n",
    "about them [here](https://python-poetry.org/docs/master/dependency-specification/)\n",
    "\n",
    "Adding new dependencies can be done with `poetry add`, eg `poetry add scipy`.\n",
    "## 2.4 dev dependencies\n",
    "What is very usefull, is that we can specify dependencies we will only use for\n",
    "development (like libraries for linting and hypertuning for a model). For\n",
    "example, if we want to install `black` for linting as a dev-package, we just add\n",
    "the `--dev` postfix, eg `poetry add black --dev`.\n",
    "\n",
    "## 2.5 install\n",
    "Installing all the libraries needed can be done by navigating into a folder with\n",
    "a pyproject.toml file, and just run `poetry install`. Poetry will install\n",
    "everything asynchronously, and not sequentially like pip or conda. This makes it\n",
    "a lot faster."
   ]
  },
  {
   "cell_type": "markdown",
   "metadata": {},
   "source": [
    "# 3 Activate\n",
    "Activating an environment can be done in the shell by typing `poetry shell`, and\n",
    "the environment will be activated.\n",
    "\n",
    "To set it up with VScode, you can run `poetry config virtualenvs.path` to find\n",
    "out the path of your virtualenvs, and add that to VScode configuration by\n",
    "opening settings and seaching for \"venv\". I have added the folder to both the\n",
    "`Python: Venv Folders` and `Python: Venv Path` settings op VScode. You will need\n",
    "to restart VScode in order for it to work, but after that you can simply select\n",
    "the environment from inside VScode."
   ]
  }
 ],
 "metadata": {
  "interpreter": {
   "hash": "aee8b7b246df8f9039afb4144a1f6fd8d2ca17a180786b69acc140d282b71a49"
  },
  "kernelspec": {
   "display_name": "Python 3.9.7 64-bit",
   "language": "python",
   "name": "python3"
  },
  "language_info": {
   "codemirror_mode": {
    "name": "ipython",
    "version": 3
   },
   "file_extension": ".py",
   "mimetype": "text/x-python",
   "name": "python",
   "nbconvert_exporter": "python",
   "pygments_lexer": "ipython3",
   "version": "3.9.7"
  },
  "orig_nbformat": 4
 },
 "nbformat": 4,
 "nbformat_minor": 2
}
