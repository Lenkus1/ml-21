{
 "cells": [
  {
   "cell_type": "code",
   "execution_count": 2,
   "source": [
    "%load_ext autoreload\n",
    "%autoreload 2\n",
    "\n",
    "import numpy as np\n",
    "import os\n",
    "from pathlib import Path\n",
    "import sys\n",
    "\n",
    "sys.path.insert(0, \"..\") \n",
    "from src.data import make_dataset\n",
    "\n",
    "os.environ['TF_CPP_MIN_LOG_LEVEL'] = '1' "
   ],
   "outputs": [],
   "metadata": {}
  },
  {
   "cell_type": "code",
   "execution_count": 7,
   "source": [
    "from src.models import base\n",
    "model = base.basemodel(shape=10)"
   ],
   "outputs": [],
   "metadata": {}
  },
  {
   "cell_type": "code",
   "execution_count": 8,
   "source": [
    "from test_excercises import shapetest\n",
    "shapetest(test=1, model=model)"
   ],
   "outputs": [
    {
     "output_type": "stream",
     "name": "stderr",
     "text": [
      "2021-08-17 17:27:39.938 | INFO     | test_excercises:shapetest:21 - test 1 passed\n"
     ]
    }
   ],
   "metadata": {}
  },
  {
   "cell_type": "markdown",
   "source": [
    "Go to base.py and modify the double_input function.\n",
    "\n",
    "Create a model that has:\n",
    "- two input layers (`a` and `b`), both for data with shape (batch x 10)\n",
    "- input `a` feeds into a Dense layer with 50 units\n",
    "- the output of that Dense layer is concatenated with input `b`, and outputs a layer of shape (batch x 60)\n",
    "- the concatenated layers are fed into a Dense layer with a single unit, which is the output of the model.\n"
   ],
   "metadata": {}
  },
  {
   "cell_type": "code",
   "execution_count": 13,
   "source": [
    "model = base.double_input(shape=1)"
   ],
   "outputs": [],
   "metadata": {}
  },
  {
   "cell_type": "code",
   "execution_count": 14,
   "source": [
    "shapetest(test=2, model=model)"
   ],
   "outputs": [
    {
     "output_type": "stream",
     "name": "stderr",
     "text": [
      "2021-08-17 17:28:18.592 | INFO     | test_excercises:shapetest:32 - test 2 passed\n"
     ]
    }
   ],
   "metadata": {}
  },
  {
   "cell_type": "code",
   "execution_count": null,
   "source": [],
   "outputs": [],
   "metadata": {}
  },
  {
   "cell_type": "code",
   "execution_count": null,
   "source": [],
   "outputs": [],
   "metadata": {}
  },
  {
   "cell_type": "code",
   "execution_count": null,
   "source": [],
   "outputs": [],
   "metadata": {}
  }
 ],
 "metadata": {
  "orig_nbformat": 4,
  "language_info": {
   "name": "python",
   "version": "3.8.3",
   "mimetype": "text/x-python",
   "codemirror_mode": {
    "name": "ipython",
    "version": 3
   },
   "pygments_lexer": "ipython3",
   "nbconvert_exporter": "python",
   "file_extension": ".py"
  },
  "kernelspec": {
   "name": "python3",
   "display_name": "Python 3.8.3 64-bit ('deep1': conda)"
  },
  "interpreter": {
   "hash": "db087170558c29b52dbaae76c50e592938ff5c7e322e5472320136db97c05a97"
  }
 },
 "nbformat": 4,
 "nbformat_minor": 2
}